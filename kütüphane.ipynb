{
 "cells": [
  {
   "cell_type": "code",
   "execution_count": null,
   "id": "e5e331e0-8bf0-48e9-9193-aac476baf1ca",
   "metadata": {},
   "outputs": [
    {
     "name": "stdin",
     "output_type": "stream",
     "text": [
      " <= (E)kle - (S)il - (D)etay - (A)ra - (Ç)ıkış =>  e\n"
     ]
    },
    {
     "name": "stdout",
     "output_type": "stream",
     "text": [
      "--- Gerekli Bilgileri Doldurunuz --- \n"
     ]
    },
    {
     "name": "stdin",
     "output_type": "stream",
     "text": [
      "Kitabın adı:  a\n",
      "Yazar adı:  y\n",
      "Yayın yılı:  2\n"
     ]
    },
    {
     "name": "stdout",
     "output_type": "stream",
     "text": [
      "a Kitabı Sisteme Eklenmiştir\n"
     ]
    },
    {
     "name": "stdin",
     "output_type": "stream",
     "text": [
      " <= (E)kle - (S)il - (D)etay - (A)ra - (Ç)ıkış =>  d\n"
     ]
    },
    {
     "name": "stdout",
     "output_type": "stream",
     "text": [
      "\n",
      " --- Mevcut Kitaplarımız ---\n",
      "1 - a - y - 2 - Kitap Durumu: Mevcut\n",
      "\n",
      " --- Kitapları Sistemimizde Bulunmaktadır --- \n"
     ]
    }
   ],
   "source": [
    "\n",
    "class Kitap: \n",
    "    durum = '- Mevcut -'\n",
    "\n",
    "    def __init__(self, id, adi, yazar, yili):\n",
    "        self.id = id\n",
    "        self.adi = adi\n",
    "        self.yazar = yazar\n",
    "        self.yili = yili\n",
    "\n",
    "    def kitap_durum(self):\n",
    "        return f'{self.id} {self.adi} {self.yazar} {self.yili} {self.durum}' \n",
    "\n",
    "class Kutuphane:\n",
    "    def __init__(self):\n",
    "        self.kitaplar = [] \n",
    "        self.odunc = [] \n",
    "        \n",
    "    def menu(self):\n",
    "        return input(\" <= (E)kle - (S)il - (D)etay - (A)ra - (Ç)ıkış => \").strip().upper()\n",
    "\n",
    "    def kitap_ekle(self):\n",
    "        \n",
    "        try:\n",
    "            id = len(self.kitaplar) + 1 \n",
    "            print(\"--- Gerekli Bilgileri Doldurunuz --- \")\n",
    "            adi = input(\"Kitabın adı: \").strip()\n",
    "            yazar = input(\"Yazar adı: \").strip()\n",
    "            yili = int(input(\"Yayın yılı: \"))\n",
    "            \n",
    "           \n",
    "            yeni_kitap = Kitap(id, adi, yazar, yili)\n",
    "            self.kitaplar.append({\n",
    "                \"id\": yeni_kitap.id,\n",
    "                \"adi\": yeni_kitap.adi,\n",
    "                \"yazar\": yeni_kitap.yazar,\n",
    "                \"yil\": yeni_kitap.yili\n",
    "            })\n",
    "            print(f'{yeni_kitap.adi} Kitabı Sisteme Eklenmiştir')\n",
    "        except ValueError:\n",
    "            print(\"Geçersiz Değer (Yıl) - Tekrar Deneyin \")\n",
    "\n",
    "    def kitap_sil(self):\n",
    "        try:\n",
    "            \n",
    "            if not self.kitaplar: \n",
    "                print(\"-- Sistemde Silinebilecek Kitap Bulunamadı --\")\n",
    "                return \n",
    "            self.kitap_detay()\n",
    "            \n",
    "            \n",
    "            sil_id = int(input(\"\\nSilmek İstediğiniz kitabın ID numarasını giriniz: \"))\n",
    "\n",
    "           \n",
    "            kitap_bulundu = False\n",
    "            for kitap in self.kitaplar:\n",
    "                if kitap[\"id\"] == sil_id:\n",
    "                    self.kitaplar.remove(kitap)\n",
    "                    kitap_bulundu = True\n",
    "                    print(f'\\n{kitap[\"adi\"]} kitabı başarıyla kaldırıldı.\\n')\n",
    "                    break\n",
    "            if not kitap_bulundu:\n",
    "                print(\"\\nBelirtilen ID numarasına sahip kitap bulunamadı\")\n",
    "\n",
    "        except ValueError:\n",
    "            print(\"\\nLütfen geçerli bir ID giriniz\\n\")\n",
    "        except Exception as e:\n",
    "            print(f'\\nBir hata oluştur {e}')\n",
    "            \n",
    "    def kitap_detay(self):\n",
    "        print(\"\\n --- Mevcut Kitaplarımız ---\")\n",
    "        if not self.kitaplar: \n",
    "            print(\"Sistemde mevcut kitap bulunamadı\")\n",
    "        else:\n",
    "            for kitap in self.kitaplar:\n",
    "                print(f'{kitap[\"id\"]} - {kitap[\"adi\"]} - {kitap[\"yazar\"]} - {kitap[\"yil\"]} - Kitap Durumu: Mevcut')\n",
    "            print(\"\\n --- Kitapları Sistemimizde Bulunmaktadır --- \")\n",
    "\n",
    "    def kitap_ara(self):\n",
    "        if len(self.kitaplar) == 0:\n",
    "            print(\"--- Sistemde Mevcut Kitap Bulunmamaktadır ---\")\n",
    "        else:\n",
    "            aranan_kelime = input(\"Aramak İstediğiniz Kitabın Adını Veya Bir Kelimesini Giriniz: \").strip().upper()\n",
    "            bulunan_kitaplar = [\n",
    "                kitap for kitap in self.kitaplar \n",
    "                if aranan_kelime in kitap[\"adi\"].upper() or\n",
    "                   aranan_kelime in kitap[\"yazar\"].upper()\n",
    "            ]\n",
    "            if bulunan_kitaplar:\n",
    "                print(\"\\nArama Sonuçları:\")\n",
    "                for kitap in bulunan_kitaplar:\n",
    "                    print(f'{kitap[\"id\"]} - {kitap[\"adi\"]} - {kitap[\"yazar\"]} - {kitap[\"yil\"]} - Kitap Durumu: Mevcut')\n",
    "            else:\n",
    "                print(\"\\nAradığınız kriterlere uygun bir kitap bulunamadı.\")\n",
    "\n",
    "        \n",
    "    def main_menu(self):\n",
    "        while True:\n",
    "            secim = self.menu() \n",
    "\n",
    "            if secim == \"E\":\n",
    "                self.kitap_ekle()\n",
    "            elif secim == \"S\":\n",
    "                self.kitap_sil()\n",
    "            elif secim == \"D\":\n",
    "                self.kitap_detay() \n",
    "            elif secim == \"A\":\n",
    "                self.kitap_ara()\n",
    "            elif secim == \"Ç\":\n",
    "                print(\"// Sistem Kapatılıyor //\")\n",
    "                break\n",
    "            else:\n",
    "                print(\"Hatalı Giriş*\")\n",
    "\n",
    "\n",
    "kütüphane = Kutuphane()\n",
    "kütüphane.main_menu()"
   ]
  },
  {
   "cell_type": "code",
   "execution_count": null,
   "id": "233081ff-5f63-4d90-a585-af3bb5ae444f",
   "metadata": {},
   "outputs": [],
   "source": []
  }
 ],
 "metadata": {
  "kernelspec": {
   "display_name": "Python 3 (ipykernel)",
   "language": "python",
   "name": "python3"
  },
  "language_info": {
   "codemirror_mode": {
    "name": "ipython",
    "version": 3
   },
   "file_extension": ".py",
   "mimetype": "text/x-python",
   "name": "python",
   "nbconvert_exporter": "python",
   "pygments_lexer": "ipython3",
   "version": "3.12.4"
  }
 },
 "nbformat": 4,
 "nbformat_minor": 5
}
